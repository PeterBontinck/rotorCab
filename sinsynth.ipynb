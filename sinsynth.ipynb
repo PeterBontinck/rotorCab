{
  "metadata": {
    "kernelspec": {
      "name": "python3",
      "display_name": "Python 3"
    },
    "language_info": {
      "name": "python"
    },
    "colab": {
      "provenance": [],
      "toc_visible": true
    }
  },
  "nbformat_minor": 0,
  "nbformat": 4,
  "cells": [
    {
      "cell_type": "code",
      "source": [
        "import numpy as np\n",
        "\n",
        "def squareWave(d,size,shift=0):\n",
        "    out = np.empty([size], dtype='bool')\n",
        "    for index in range(size):\n",
        "\n",
        "        shiftedIndex = (index + shift)%size\n",
        "        out[shiftedIndex] = ((index*d)%size <size/2)\n",
        "    return out"
      ],
      "metadata": {
        "trusted": true,
        "id": "bQLb8fqmk-5V"
      },
      "outputs": [],
      "execution_count": 2
    },
    {
      "cell_type": "code",
      "source": [
        "def boolArraytoUint(arrayIn):\n",
        "    i=1\n",
        "    res = 0\n",
        "    for x in arrayIn:\n",
        "        if x : res+=i\n",
        "        i=i*2\n",
        "    return res"
      ],
      "metadata": {
        "trusted": true,
        "id": "DoCTHoCXk-5W"
      },
      "outputs": [],
      "execution_count": 3
    },
    {
      "cell_type": "code",
      "source": [
        "def valuetable(arrayIn):\n",
        "    r,c = arrayIn.shape\n",
        "    out = np.empty([c], dtype='int')\n",
        "    for index in range(c):\n",
        "      out[index] = boolArraytoUint(arrayIn[:,index])\n",
        "\n",
        "    return out"
      ],
      "metadata": {
        "trusted": true,
        "id": "hPBGsy7Qk-5W"
      },
      "outputs": [],
      "execution_count": 4
    },
    {
      "cell_type": "code",
      "source": [
        "squareWave(5,30)"
      ],
      "metadata": {
        "trusted": true,
        "id": "t6CqOzTxk-5X",
        "outputId": "90742680-5138-42bc-fa13-ace2728112e0",
        "colab": {
          "base_uri": "https://localhost:8080/"
        }
      },
      "outputs": [
        {
          "output_type": "execute_result",
          "data": {
            "text/plain": [
              "array([ True,  True,  True, False, False, False,  True,  True,  True,\n",
              "       False, False, False,  True,  True,  True, False, False, False,\n",
              "        True,  True,  True, False, False, False,  True,  True,  True,\n",
              "       False, False, False])"
            ]
          },
          "metadata": {},
          "execution_count": 5
        }
      ],
      "execution_count": 5
    },
    {
      "cell_type": "code",
      "source": [
        "waves = np.array([squareWave(1,30),np.logical_not(squareWave(3,30)),np.logical_not(squareWave(5,30))])"
      ],
      "metadata": {
        "trusted": true,
        "id": "tmOQbqXPk-5X"
      },
      "outputs": [],
      "execution_count": 6
    },
    {
      "cell_type": "code",
      "source": [
        "waves"
      ],
      "metadata": {
        "trusted": true,
        "id": "K6u7cOxZk-5X",
        "outputId": "0ff192a1-744e-45cb-8de8-a0a6938f1da9",
        "colab": {
          "base_uri": "https://localhost:8080/"
        }
      },
      "outputs": [
        {
          "output_type": "execute_result",
          "data": {
            "text/plain": [
              "array([[ True,  True,  True,  True,  True,  True,  True,  True,  True,\n",
              "         True,  True,  True,  True,  True,  True, False, False, False,\n",
              "        False, False, False, False, False, False, False, False, False,\n",
              "        False, False, False],\n",
              "       [False, False, False, False, False,  True,  True,  True,  True,\n",
              "         True, False, False, False, False, False,  True,  True,  True,\n",
              "         True,  True, False, False, False, False, False,  True,  True,\n",
              "         True,  True,  True],\n",
              "       [False, False, False,  True,  True,  True, False, False, False,\n",
              "         True,  True,  True, False, False, False,  True,  True,  True,\n",
              "        False, False, False,  True,  True,  True, False, False, False,\n",
              "         True,  True,  True]])"
            ]
          },
          "metadata": {},
          "execution_count": 7
        }
      ],
      "execution_count": 7
    },
    {
      "cell_type": "code",
      "source": [
        "boolArraytoUint(waves[:,0])"
      ],
      "metadata": {
        "trusted": true,
        "id": "vhYRxJVek-5X"
      },
      "outputs": [],
      "execution_count": null
    },
    {
      "cell_type": "code",
      "source": [
        "valuetable(waves)"
      ],
      "metadata": {
        "trusted": true,
        "id": "oNE-fdcBk-5Y",
        "outputId": "f06a4f4f-e376-40d0-8305-67434a5c290c",
        "colab": {
          "base_uri": "https://localhost:8080/"
        }
      },
      "outputs": [
        {
          "output_type": "execute_result",
          "data": {
            "text/plain": [
              "array([1, 1, 1, 5, 5, 7, 3, 3, 3, 7, 5, 5, 1, 1, 1, 6, 6, 6, 2, 2, 0, 4,\n",
              "       4, 4, 0, 2, 2, 6, 6, 6])"
            ]
          },
          "metadata": {},
          "execution_count": 9
        }
      ],
      "execution_count": 9
    }
  ]
}