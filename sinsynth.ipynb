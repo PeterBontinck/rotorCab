{
  "metadata": {
    "kernelspec": {
      "name": "python3",
      "display_name": "Python 3"
    },
    "language_info": {
      "name": "python"
    },
    "colab": {
      "provenance": []
    }
  },
  "nbformat_minor": 0,
  "nbformat": 4,
  "cells": [
    {
      "cell_type": "code",
      "source": [
        "import numpy as np\n",
        "\n",
        "def squareWave(d,size,shift=0):\n",
        "    out = np.empty([size], dtype='bool')\n",
        "    for index in range(size):\n",
        "\n",
        "        shiftedIndex = (index + shift)%size\n",
        "        out[shiftedIndex] = ((index*d)%size <size/2)\n",
        "    return out"
      ],
      "metadata": {
        "trusted": true,
        "id": "bQLb8fqmk-5V"
      },
      "outputs": [],
      "execution_count": 2
    },
    {
      "cell_type": "code",
      "source": [
        "def boolArraytoUint(arrayIn):\n",
        "    i=1\n",
        "    res = 0\n",
        "    for x in arrayIn:\n",
        "        if x : res+=i\n",
        "        i=i*2\n",
        "    return res"
      ],
      "metadata": {
        "trusted": true,
        "id": "DoCTHoCXk-5W"
      },
      "outputs": [],
      "execution_count": 3
    },
    {
      "cell_type": "code",
      "source": [
        "def valuetable(arrayIn):\n",
        "    r,c = arrayIn.shape\n",
        "    out = np.empty([c], dtype='int')\n",
        "    for index in range(c):\n",
        "      out[index] = boolArraytoUint(arrayIn[:,index])\n",
        "\n",
        "    return out"
      ],
      "metadata": {
        "trusted": true,
        "id": "hPBGsy7Qk-5W"
      },
      "outputs": [],
      "execution_count": 4
    },
    {
      "cell_type": "code",
      "source": [
        "squareWave(5,30)"
      ],
      "metadata": {
        "trusted": true,
        "id": "t6CqOzTxk-5X",
        "outputId": "d86f49dc-a420-48cc-b2ee-7ede79a50aae",
        "colab": {
          "base_uri": "https://localhost:8080/"
        }
      },
      "outputs": [
        {
          "output_type": "execute_result",
          "data": {
            "text/plain": [
              "array([ True,  True,  True, False, False, False,  True,  True,  True,\n",
              "       False, False, False,  True,  True,  True, False, False, False,\n",
              "        True,  True,  True, False, False, False,  True,  True,  True,\n",
              "       False, False, False])"
            ]
          },
          "metadata": {},
          "execution_count": 5
        }
      ],
      "execution_count": 5
    },
    {
      "cell_type": "code",
      "source": [
        "wavesA = np.array([squareWave(1,30),np.logical_not(squareWave(3,30)),np.logical_not(squareWave(5,30))])\n",
        "wavesB = np.array([squareWave(1,30,8),np.logical_not(squareWave(3,30,8)),np.logical_not(squareWave(5,30,8))])"
      ],
      "metadata": {
        "trusted": true,
        "id": "tmOQbqXPk-5X"
      },
      "outputs": [],
      "execution_count": 6
    },
    {
      "cell_type": "code",
      "source": [
        "A= valuetable(wavesA)\n",
        "B = valuetable(wavesB)"
      ],
      "metadata": {
        "trusted": true,
        "id": "oNE-fdcBk-5Y"
      },
      "outputs": [],
      "execution_count": 9
    },
    {
      "cell_type": "code",
      "source": [
        "A"
      ],
      "metadata": {
        "id": "wjlBNqXtNqvG",
        "outputId": "769b5a90-5086-4a30-af22-05f9655cb70f",
        "colab": {
          "base_uri": "https://localhost:8080/"
        }
      },
      "execution_count": 11,
      "outputs": [
        {
          "output_type": "execute_result",
          "data": {
            "text/plain": [
              "array([1, 1, 1, 5, 5, 7, 3, 3, 3, 7, 5, 5, 1, 1, 1, 6, 6, 6, 2, 2, 0, 4,\n",
              "       4, 4, 0, 2, 2, 6, 6, 6])"
            ]
          },
          "metadata": {},
          "execution_count": 11
        }
      ]
    },
    {
      "cell_type": "code",
      "source": [
        "B"
      ],
      "metadata": {
        "id": "1MeMXjiSNwQV",
        "outputId": "1a7d38ee-332e-4d0c-f3bc-f323a2c48154",
        "colab": {
          "base_uri": "https://localhost:8080/"
        }
      },
      "execution_count": 12,
      "outputs": [
        {
          "output_type": "execute_result",
          "data": {
            "text/plain": [
              "array([4, 4, 0, 2, 2, 6, 6, 6, 1, 1, 1, 5, 5, 7, 3, 3, 3, 7, 5, 5, 1, 1,\n",
              "       1, 6, 6, 6, 2, 2, 0, 4])"
            ]
          },
          "metadata": {},
          "execution_count": 12
        }
      ]
    },
    {
      "cell_type": "code",
      "source": [
        "def pio_code(A,B):\n",
        "  strOut =\"\"\n",
        "  i=0\n",
        "  while i < len(A):\n",
        "    delay = \" \"\n",
        "    if i < len(A)-1:\n",
        "      if (A[i] == A[i+1]) & (B[i] == B[i+1]):\n",
        "        delay = \"[1]\"\n",
        "        i += 1\n",
        "      else:  delay = \"\"\n",
        "    strOut = strOut + \"set pins, \" +\"0b{0:03b}\".format(A[i]) + \" \\tside \" + \"0b{0:03b}\".format(B[i]) + \" \" + delay + \"\\n\"\n",
        "    i += 1\n",
        "  return strOut"
      ],
      "metadata": {
        "id": "YtUjhRUzN14N"
      },
      "execution_count": 56,
      "outputs": []
    },
    {
      "cell_type": "code",
      "source": [
        "pio_code(A,B)"
      ],
      "metadata": {
        "id": "GvE6fe5RPdSy",
        "outputId": "003f0f79-3b82-4894-9e85-772f641ff1be",
        "colab": {
          "base_uri": "https://localhost:8080/",
          "height": 122
        }
      },
      "execution_count": 57,
      "outputs": [
        {
          "output_type": "execute_result",
          "data": {
            "text/plain": [
              "'set pins, 0b001 \\tside 0b100 [1]\\nset pins, 0b001 \\tside 0b000 \\nset pins, 0b101 \\tside 0b010 [1]\\nset pins, 0b111 \\tside 0b110 \\nset pins, 0b011 \\tside 0b110 [1]\\nset pins, 0b011 \\tside 0b001 \\nset pins, 0b111 \\tside 0b001 \\nset pins, 0b101 \\tside 0b001 \\nset pins, 0b101 \\tside 0b101 \\nset pins, 0b001 \\tside 0b101 \\nset pins, 0b001 \\tside 0b111 \\nset pins, 0b001 \\tside 0b011 \\nset pins, 0b110 \\tside 0b011 [1]\\nset pins, 0b110 \\tside 0b111 \\nset pins, 0b010 \\tside 0b101 [1]\\nset pins, 0b000 \\tside 0b001 \\nset pins, 0b100 \\tside 0b001 [1]\\nset pins, 0b100 \\tside 0b110 \\nset pins, 0b000 \\tside 0b110 \\nset pins, 0b010 \\tside 0b110 \\nset pins, 0b010 \\tside 0b010 \\nset pins, 0b110 \\tside 0b010 \\nset pins, 0b110 \\tside 0b000 \\nset pins, 0b110 \\tside 0b100  \\n'"
            ],
            "application/vnd.google.colaboratory.intrinsic+json": {
              "type": "string"
            }
          },
          "metadata": {},
          "execution_count": 57
        }
      ]
    }
  ]
}