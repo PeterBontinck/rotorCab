{
  "metadata": {
    "kernelspec": {
      "name": "python",
      "display_name": "Python (Pyodide)",
      "language": "python"
    },
    "language_info": {
      "codemirror_mode": {
        "name": "python",
        "version": 3
      },
      "file_extension": ".py",
      "mimetype": "text/x-python",
      "name": "python",
      "nbconvert_exporter": "python",
      "pygments_lexer": "ipython3",
      "version": "3.8"
    }
  },
  "nbformat_minor": 4,
  "nbformat": 4,
  "cells": [
    {
      "cell_type": "code",
      "source": "import numpy as np\n\ndef squareWave(d,size,shift=0):\n    out = np.empty([size], dtype='bool')\n    for index in range(size):\n\n        shiftedIndex = (index + shift)%size\n        out[shiftedIndex] = ((index*d)%size <size/2)\n    return out",
      "metadata": {
        "trusted": true
      },
      "outputs": [],
      "execution_count": 52
    },
    {
      "cell_type": "code",
      "source": "def boolArraytoUint(arrayIn):\n    i=1\n    res = 0\n    for x in arrayIn:\n        if x : res+=i\n        i=i*2\n    return res",
      "metadata": {
        "trusted": true
      },
      "outputs": [],
      "execution_count": 53
    },
    {
      "cell_type": "code",
      "source": "def valuetable(arrayIn):\n    r,c = arrayIn.shape\n    out = np.empty([c], dtype='int')\n    for index in range(c):\n      out[index] = boolArraytoUint(arrayIn[:,index])\n\n    return out",
      "metadata": {
        "trusted": true
      },
      "outputs": [],
      "execution_count": 93
    },
    {
      "cell_type": "code",
      "source": "squareWave(5,30)",
      "metadata": {
        "trusted": true
      },
      "outputs": [
        {
          "execution_count": 94,
          "output_type": "execute_result",
          "data": {
            "text/plain": "array([ True,  True,  True, False, False, False,  True,  True,  True,\n       False, False, False,  True,  True,  True, False, False, False,\n        True,  True,  True, False, False, False,  True,  True,  True,\n       False, False, False])"
          },
          "metadata": {}
        }
      ],
      "execution_count": 94
    },
    {
      "cell_type": "code",
      "source": "waves = np.array([squareWave(1,30),np.logical_not(squareWave(3,30)),np.logical_not(squareWave(5,30))])",
      "metadata": {
        "trusted": true
      },
      "outputs": [],
      "execution_count": 107
    },
    {
      "cell_type": "code",
      "source": "waves",
      "metadata": {
        "trusted": true
      },
      "outputs": [
        {
          "execution_count": 108,
          "output_type": "execute_result",
          "data": {
            "text/plain": "array([[ True,  True,  True,  True,  True,  True,  True,  True,  True,\n         True,  True,  True,  True,  True,  True, False, False, False,\n        False, False, False, False, False, False, False, False, False,\n        False, False, False],\n       [False, False, False, False, False,  True,  True,  True,  True,\n         True, False, False, False, False, False,  True,  True,  True,\n         True,  True, False, False, False, False, False,  True,  True,\n         True,  True,  True],\n       [False, False, False,  True,  True,  True, False, False, False,\n         True,  True,  True, False, False, False,  True,  True,  True,\n        False, False, False,  True,  True,  True, False, False, False,\n         True,  True,  True]])"
          },
          "metadata": {}
        }
      ],
      "execution_count": 108
    },
    {
      "cell_type": "code",
      "source": "boolArraytoUint(waves[:,0])",
      "metadata": {
        "trusted": true
      },
      "outputs": [
        {
          "execution_count": 109,
          "output_type": "execute_result",
          "data": {
            "text/plain": "1"
          },
          "metadata": {}
        }
      ],
      "execution_count": 109
    },
    {
      "cell_type": "code",
      "source": "valuetable(waves)",
      "metadata": {
        "trusted": true
      },
      "outputs": [
        {
          "execution_count": 110,
          "output_type": "execute_result",
          "data": {
            "text/plain": "array([1, 1, 1, 5, 5, 7, 3, 3, 3, 7, 5, 5, 1, 1, 1, 6, 6, 6, 2, 2, 0, 4,\n       4, 4, 0, 2, 2, 6, 6, 6])"
          },
          "metadata": {}
        }
      ],
      "execution_count": 110
    },
    {
      "cell_type": "code",
      "source": "",
      "metadata": {
        "trusted": true
      },
      "outputs": [],
      "execution_count": null
    },
    {
      "cell_type": "code",
      "source": "",
      "metadata": {
        "trusted": true
      },
      "outputs": [],
      "execution_count": null
    }
  ]
}